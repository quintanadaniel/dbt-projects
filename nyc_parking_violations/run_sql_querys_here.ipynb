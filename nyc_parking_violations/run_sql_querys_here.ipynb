{
 "cells": [
  {
   "cell_type": "code",
   "id": "initial_id",
   "metadata": {
    "collapsed": true,
    "ExecuteTime": {
     "end_time": "2024-08-15T20:54:49.937883Z",
     "start_time": "2024-08-15T20:54:49.645917Z"
    }
   },
   "source": [
    "import duckdb\n",
    "import pandas as pd"
   ],
   "outputs": [],
   "execution_count": 3
  },
  {
   "metadata": {},
   "cell_type": "markdown",
   "source": "## Create new data base using duckdb or select database if it's created before",
   "id": "b7604f4d6aed0f42"
  },
  {
   "metadata": {
    "ExecuteTime": {
     "end_time": "2024-08-15T21:22:21.153042Z",
     "start_time": "2024-08-15T21:22:21.106209Z"
    }
   },
   "cell_type": "code",
   "source": [
    "sql_query = '''show tables'''\n",
    "\n",
    "with duckdb.connect('./data/nyc_parking_violations.db') as conn:\n",
    "    display(conn.sql(sql_query).df())"
   ],
   "id": "87adcf65e59d0ff8",
   "outputs": [
    {
     "data": {
      "text/plain": [
       "                      name\n",
       "0              first_model\n",
       "1   parking_violation_2023\n",
       "2  parking_violation_codes\n",
       "3                ref_model"
      ],
      "text/html": [
       "<div>\n",
       "<style scoped>\n",
       "    .dataframe tbody tr th:only-of-type {\n",
       "        vertical-align: middle;\n",
       "    }\n",
       "\n",
       "    .dataframe tbody tr th {\n",
       "        vertical-align: top;\n",
       "    }\n",
       "\n",
       "    .dataframe thead th {\n",
       "        text-align: right;\n",
       "    }\n",
       "</style>\n",
       "<table border=\"1\" class=\"dataframe\">\n",
       "  <thead>\n",
       "    <tr style=\"text-align: right;\">\n",
       "      <th></th>\n",
       "      <th>name</th>\n",
       "    </tr>\n",
       "  </thead>\n",
       "  <tbody>\n",
       "    <tr>\n",
       "      <th>0</th>\n",
       "      <td>first_model</td>\n",
       "    </tr>\n",
       "    <tr>\n",
       "      <th>1</th>\n",
       "      <td>parking_violation_2023</td>\n",
       "    </tr>\n",
       "    <tr>\n",
       "      <th>2</th>\n",
       "      <td>parking_violation_codes</td>\n",
       "    </tr>\n",
       "    <tr>\n",
       "      <th>3</th>\n",
       "      <td>ref_model</td>\n",
       "    </tr>\n",
       "  </tbody>\n",
       "</table>\n",
       "</div>"
      ]
     },
     "metadata": {},
     "output_type": "display_data"
    }
   ],
   "execution_count": 9
  },
  {
   "metadata": {},
   "cell_type": "markdown",
   "source": "## Run a select query",
   "id": "affdb0e233ebb03e"
  },
  {
   "metadata": {
    "ExecuteTime": {
     "end_time": "2024-08-16T20:40:06.573793Z",
     "start_time": "2024-08-16T20:40:06.510175Z"
    }
   },
   "cell_type": "code",
   "source": [
    "sql_show_tables = '''\n",
    "show tables\n",
    "'''\n",
    "\n",
    "with duckdb.connect('./data/nyc_parking_violations.db') as conn:\n",
    "    display(conn.sql(sql_show_tables).df())"
   ],
   "id": "19eaa04fc406f09d",
   "outputs": [
    {
     "data": {
      "text/plain": [
       "                              name\n",
       "0   bronze_parking_violation_codes\n",
       "1        bronze_parking_violations\n",
       "2                      first_model\n",
       "3              gold_ticket_metrics\n",
       "4            gold_vehicles_metrics\n",
       "5           parking_violation_2023\n",
       "6          parking_violation_codes\n",
       "7                        ref_model\n",
       "8   silver_parking_violation_codes\n",
       "9        silver_parking_violations\n",
       "10        silver_violation_tickets\n",
       "11       silver_violation_vehicles"
      ],
      "text/html": [
       "<div>\n",
       "<style scoped>\n",
       "    .dataframe tbody tr th:only-of-type {\n",
       "        vertical-align: middle;\n",
       "    }\n",
       "\n",
       "    .dataframe tbody tr th {\n",
       "        vertical-align: top;\n",
       "    }\n",
       "\n",
       "    .dataframe thead th {\n",
       "        text-align: right;\n",
       "    }\n",
       "</style>\n",
       "<table border=\"1\" class=\"dataframe\">\n",
       "  <thead>\n",
       "    <tr style=\"text-align: right;\">\n",
       "      <th></th>\n",
       "      <th>name</th>\n",
       "    </tr>\n",
       "  </thead>\n",
       "  <tbody>\n",
       "    <tr>\n",
       "      <th>0</th>\n",
       "      <td>bronze_parking_violation_codes</td>\n",
       "    </tr>\n",
       "    <tr>\n",
       "      <th>1</th>\n",
       "      <td>bronze_parking_violations</td>\n",
       "    </tr>\n",
       "    <tr>\n",
       "      <th>2</th>\n",
       "      <td>first_model</td>\n",
       "    </tr>\n",
       "    <tr>\n",
       "      <th>3</th>\n",
       "      <td>gold_ticket_metrics</td>\n",
       "    </tr>\n",
       "    <tr>\n",
       "      <th>4</th>\n",
       "      <td>gold_vehicles_metrics</td>\n",
       "    </tr>\n",
       "    <tr>\n",
       "      <th>5</th>\n",
       "      <td>parking_violation_2023</td>\n",
       "    </tr>\n",
       "    <tr>\n",
       "      <th>6</th>\n",
       "      <td>parking_violation_codes</td>\n",
       "    </tr>\n",
       "    <tr>\n",
       "      <th>7</th>\n",
       "      <td>ref_model</td>\n",
       "    </tr>\n",
       "    <tr>\n",
       "      <th>8</th>\n",
       "      <td>silver_parking_violation_codes</td>\n",
       "    </tr>\n",
       "    <tr>\n",
       "      <th>9</th>\n",
       "      <td>silver_parking_violations</td>\n",
       "    </tr>\n",
       "    <tr>\n",
       "      <th>10</th>\n",
       "      <td>silver_violation_tickets</td>\n",
       "    </tr>\n",
       "    <tr>\n",
       "      <th>11</th>\n",
       "      <td>silver_violation_vehicles</td>\n",
       "    </tr>\n",
       "  </tbody>\n",
       "</table>\n",
       "</div>"
      ]
     },
     "metadata": {},
     "output_type": "display_data"
    }
   ],
   "execution_count": 22
  },
  {
   "metadata": {
    "ExecuteTime": {
     "end_time": "2024-08-16T20:30:02.498148Z",
     "start_time": "2024-08-16T20:30:02.466736Z"
    }
   },
   "cell_type": "code",
   "source": [
    "sql_query = '''\n",
    "select * from \"nyc_parking_violations\".\"main_dbt_test__audit\".\"violation_codes_revenue\"\n",
    "'''\n",
    "\n",
    "with duckdb.connect('./data/nyc_parking_violations.db') as conn:\n",
    "    display(conn.sql(sql_query).df())"
   ],
   "id": "34f3bab9a04ed4d0",
   "outputs": [
    {
     "data": {
      "text/plain": [
       "   violation_code  total_revenue_usd\n",
       "0              41                0.0"
      ],
      "text/html": [
       "<div>\n",
       "<style scoped>\n",
       "    .dataframe tbody tr th:only-of-type {\n",
       "        vertical-align: middle;\n",
       "    }\n",
       "\n",
       "    .dataframe tbody tr th {\n",
       "        vertical-align: top;\n",
       "    }\n",
       "\n",
       "    .dataframe thead th {\n",
       "        text-align: right;\n",
       "    }\n",
       "</style>\n",
       "<table border=\"1\" class=\"dataframe\">\n",
       "  <thead>\n",
       "    <tr style=\"text-align: right;\">\n",
       "      <th></th>\n",
       "      <th>violation_code</th>\n",
       "      <th>total_revenue_usd</th>\n",
       "    </tr>\n",
       "  </thead>\n",
       "  <tbody>\n",
       "    <tr>\n",
       "      <th>0</th>\n",
       "      <td>41</td>\n",
       "      <td>0.0</td>\n",
       "    </tr>\n",
       "  </tbody>\n",
       "</table>\n",
       "</div>"
      ]
     },
     "metadata": {},
     "output_type": "display_data"
    }
   ],
   "execution_count": 21
  },
  {
   "metadata": {},
   "cell_type": "markdown",
   "source": "## Create new tables using csv files",
   "id": "bf269e6cc16f5f16"
  },
  {
   "metadata": {
    "ExecuteTime": {
     "end_time": "2024-08-15T20:55:25.804256Z",
     "start_time": "2024-08-15T20:55:25.439232Z"
    }
   },
   "cell_type": "code",
   "source": [
    "sql_query_import_1 = '''\n",
    "CREATE OR REPLACE TABLE parking_violation_codes AS \n",
    "SELECT * \n",
    "FROM read_csv_auto(\n",
    " './data/dof_parking_violation_codes.csv', \n",
    " normalize_names=True\n",
    ") \n",
    "'''\n",
    "\n",
    "sql_query_import_2 = '''\n",
    "CREATE OR REPLACE TABLE parking_violation_2023 AS \n",
    "SELECT * \n",
    "FROM read_csv_auto(\n",
    " './data/parking_violations_issued_fiscal_year_2023_sample.csv', \n",
    " normalize_names=True\n",
    ") \n",
    "'''\n",
    "\n",
    "with duckdb.connect('./data/nyc_parking_violations.db') as conn:\n",
    "    conn.sql(sql_query_import_1)\n",
    "    conn.sql(sql_query_import_2)"
   ],
   "id": "f24a8b3c4fdb281a",
   "outputs": [],
   "execution_count": 5
  },
  {
   "metadata": {},
   "cell_type": "markdown",
   "source": "## Running on production",
   "id": "aa1d653a2ebe5c06"
  },
  {
   "metadata": {
    "ExecuteTime": {
     "end_time": "2024-08-16T20:44:56.269781Z",
     "start_time": "2024-08-16T20:44:55.905544Z"
    }
   },
   "cell_type": "code",
   "source": [
    "sql_query_import_1 = '''\n",
    "CREATE OR REPLACE TABLE parking_violation_codes AS \n",
    "SELECT * \n",
    "FROM read_csv_auto(\n",
    " './data/dof_parking_violation_codes.csv', \n",
    " normalize_names=True\n",
    ") \n",
    "'''\n",
    "\n",
    "sql_query_import_2 = '''\n",
    "CREATE OR REPLACE TABLE parking_violation_2023 AS \n",
    "SELECT * \n",
    "FROM read_csv_auto(\n",
    " './data/parking_violations_issued_fiscal_year_2023_sample.csv', \n",
    " normalize_names=True\n",
    ") \n",
    "'''\n",
    "\n",
    "with duckdb.connect('./data/prod_nyc_parking_violations.db') as conn:\n",
    "    conn.sql(sql_query_import_1)\n",
    "    conn.sql(sql_query_import_2)"
   ],
   "id": "538d5a587b6b347d",
   "outputs": [],
   "execution_count": 23
  },
  {
   "metadata": {
    "ExecuteTime": {
     "end_time": "2024-08-16T20:47:05.595746Z",
     "start_time": "2024-08-16T20:47:05.553615Z"
    }
   },
   "cell_type": "code",
   "source": [
    "sql_show_tables = '''\n",
    "show tables\n",
    "'''\n",
    "\n",
    "with duckdb.connect('./data/prod_nyc_parking_violations.db') as conn:\n",
    "    display(conn.sql(sql_show_tables).df())"
   ],
   "id": "c3502335fe4edb69",
   "outputs": [
    {
     "data": {
      "text/plain": [
       "                             name\n",
       "0  bronze_parking_violation_codes\n",
       "1       bronze_parking_violations\n",
       "2             gold_ticket_metrics\n",
       "3           gold_vehicles_metrics\n",
       "4          parking_violation_2023\n",
       "5         parking_violation_codes\n",
       "6        silver_violation_tickets\n",
       "7       silver_violation_vehicles"
      ],
      "text/html": [
       "<div>\n",
       "<style scoped>\n",
       "    .dataframe tbody tr th:only-of-type {\n",
       "        vertical-align: middle;\n",
       "    }\n",
       "\n",
       "    .dataframe tbody tr th {\n",
       "        vertical-align: top;\n",
       "    }\n",
       "\n",
       "    .dataframe thead th {\n",
       "        text-align: right;\n",
       "    }\n",
       "</style>\n",
       "<table border=\"1\" class=\"dataframe\">\n",
       "  <thead>\n",
       "    <tr style=\"text-align: right;\">\n",
       "      <th></th>\n",
       "      <th>name</th>\n",
       "    </tr>\n",
       "  </thead>\n",
       "  <tbody>\n",
       "    <tr>\n",
       "      <th>0</th>\n",
       "      <td>bronze_parking_violation_codes</td>\n",
       "    </tr>\n",
       "    <tr>\n",
       "      <th>1</th>\n",
       "      <td>bronze_parking_violations</td>\n",
       "    </tr>\n",
       "    <tr>\n",
       "      <th>2</th>\n",
       "      <td>gold_ticket_metrics</td>\n",
       "    </tr>\n",
       "    <tr>\n",
       "      <th>3</th>\n",
       "      <td>gold_vehicles_metrics</td>\n",
       "    </tr>\n",
       "    <tr>\n",
       "      <th>4</th>\n",
       "      <td>parking_violation_2023</td>\n",
       "    </tr>\n",
       "    <tr>\n",
       "      <th>5</th>\n",
       "      <td>parking_violation_codes</td>\n",
       "    </tr>\n",
       "    <tr>\n",
       "      <th>6</th>\n",
       "      <td>silver_violation_tickets</td>\n",
       "    </tr>\n",
       "    <tr>\n",
       "      <th>7</th>\n",
       "      <td>silver_violation_vehicles</td>\n",
       "    </tr>\n",
       "  </tbody>\n",
       "</table>\n",
       "</div>"
      ]
     },
     "metadata": {},
     "output_type": "display_data"
    }
   ],
   "execution_count": 24
  }
 ],
 "metadata": {
  "kernelspec": {
   "display_name": "Python 3",
   "language": "python",
   "name": "python3"
  },
  "language_info": {
   "codemirror_mode": {
    "name": "ipython",
    "version": 2
   },
   "file_extension": ".py",
   "mimetype": "text/x-python",
   "name": "python",
   "nbconvert_exporter": "python",
   "pygments_lexer": "ipython2",
   "version": "2.7.6"
  }
 },
 "nbformat": 4,
 "nbformat_minor": 5
}
